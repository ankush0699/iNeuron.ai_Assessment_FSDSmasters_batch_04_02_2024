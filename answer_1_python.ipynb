{
 "cells": [
  {
   "cell_type": "markdown",
   "metadata": {},
   "source": [
    "Answer to question 1 in pyhton section."
   ]
  },
  {
   "cell_type": "markdown",
   "metadata": {},
   "source": [
    "Question 1. Write an efficient algorithm that searches for a value target in an m x n integer matrix. This matrix has the following properties:\n",
    "\n",
    "Integers in each row are sorted from right to left.\n",
    "\n",
    "The first integer of each row is greater than the last integer of the previous row.\n",
    "\n",
    "                              Example-: \n",
    "\n",
    "                                        Input: matrix = [[1,3,5,7],[10,11,16,20],[23,30,34,60]], target = 3\n",
    "\n",
    "                                         Output: True"
   ]
  },
  {
   "cell_type": "code",
   "execution_count": 4,
   "metadata": {},
   "outputs": [
    {
     "name": "stdout",
     "output_type": "stream",
     "text": [
      "Target found.\n"
     ]
    }
   ],
   "source": [
    "# Answer\n",
    "\n",
    "\n",
    "def value_target(matrix, target):\n",
    "    \n",
    "    \n",
    "    if not matrix or not matrix[0]:   # Checking whether the matrix is empty or not\n",
    "        return \"Empty matrix.\"\n",
    "\n",
    "    num_rows = len(matrix)            # no. of rows.\n",
    "    num_cols = len(matrix[0])         # no. of columns.\n",
    "    \n",
    "    row = 0  \n",
    "    col = num_cols - 1  \n",
    "\n",
    "    while row < num_rows and col >= 0:\n",
    "        \n",
    "        if matrix[row][col] == target:\n",
    "            return \"Target found.\"\n",
    "        \n",
    "        elif matrix[row][col] > target:\n",
    "            col -= 1\n",
    "        \n",
    "        else:\n",
    "            row += 1\n",
    "\n",
    "    # if no such target exixt.\n",
    "    return \"Target not found.\"\n",
    "\n",
    "# use case\n",
    "matrix = [[1,3,5,7],[10,11,16,20],[23,30,34,60]]\n",
    "target = 3\n",
    "print(value_target(matrix, target))  \n"
   ]
  }
 ],
 "metadata": {
  "kernelspec": {
   "display_name": "Python 3",
   "language": "python",
   "name": "python3"
  },
  "language_info": {
   "codemirror_mode": {
    "name": "ipython",
    "version": 3
   },
   "file_extension": ".py",
   "mimetype": "text/x-python",
   "name": "python",
   "nbconvert_exporter": "python",
   "pygments_lexer": "ipython3",
   "version": "3.10.0"
  }
 },
 "nbformat": 4,
 "nbformat_minor": 2
}
