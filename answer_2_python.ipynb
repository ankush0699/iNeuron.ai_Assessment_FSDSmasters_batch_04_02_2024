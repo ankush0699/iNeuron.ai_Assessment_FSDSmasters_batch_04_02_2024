{
 "cells": [
  {
   "cell_type": "markdown",
   "metadata": {},
   "source": [
    "Question_2: \n",
    "\n",
    "Write a program that takes a string as input, and counts the frequency of each word in the string, there might  be repeated characters in the string. Your task is to find the highest frequency and returns the length of the  highest-frequency word. \n",
    "\n",
    "Note - You have to write at least 2 additional test cases in which your program will run successfully and provide  an explanation for the same.  \n",
    "\n",
    "Example input - string = “write write write all the number from from from 1 to 100” \n",
    "\n",
    "Example output - 5 \n",
    "\n",
    "Explanation - From the given string we can note that the most frequent words are “write” and “from” and  the maximum value of both the values is “write” and its corresponding length is 5 "
   ]
  },
  {
   "cell_type": "code",
   "execution_count": 11,
   "metadata": {},
   "outputs": [
    {
     "name": "stdout",
     "output_type": "stream",
     "text": [
      "5\n",
      "4\n",
      "3\n"
     ]
    },
    {
     "data": {
      "text/plain": [
       "'\\nExplanation:\\nIn this string, \"How\" is the word with the highest frequency, occurring 2 times.\\nThe length of \"How\" is 3.\\nOutput: The function correctly returns 3.\\n'"
      ]
     },
     "execution_count": 11,
     "metadata": {},
     "output_type": "execute_result"
    }
   ],
   "source": [
    "def word_of_highest_freq(input_string):\n",
    "    # Let's first split given string\n",
    "    words = input_string.split()\n",
    "\n",
    "    # Freq count\n",
    "    word_freq = {}\n",
    "    for word in words:\n",
    "        if word in word_freq:\n",
    "            word_freq[word] += 1\n",
    "        else:\n",
    "            word_freq[word] = 1\n",
    "\n",
    "    # Finding the highest freq\n",
    "    max_freq = 0\n",
    "    for freq in word_freq.values():\n",
    "        if freq > max_freq:\n",
    "            max_freq = freq\n",
    "\n",
    "    # Length of the highest freq word\n",
    "    max_freq_word_length = 0\n",
    "    for word, freq in word_freq.items():\n",
    "        if freq == max_freq:\n",
    "            if len(word) > max_freq_word_length:\n",
    "                max_freq_word_length = len(word)\n",
    "\n",
    "    return max_freq_word_length\n",
    "\n",
    "string1 = \"write write write all the number from from from 1 to 100\"\n",
    "print(word_of_highest_freq(string1))  \n",
    "\"\"\"\n",
    "Explanation:\n",
    "In this string, \"write\" is the word with the highest frequency, occurring 3 times.\n",
    "The length of \"write\" is 5.\n",
    "Output: The function correctly returns 5.\n",
    "\"\"\"\n",
    "\n",
    "string2 = \"My name name name is is amkush\"\n",
    "print(word_of_highest_freq(string2))\n",
    "\n",
    "\"\"\"Explanation:\n",
    "In this string, \"name\" is the word with the highest frequency, occurring 3 times.\n",
    "The length of \"name\" is 4.\n",
    "Output: The function correctly returns 4.\n",
    "\"\"\"\n",
    "string3 = \"How How are you?\"\n",
    "print(word_of_highest_freq(string3))\n",
    "\n",
    "\"\"\"\n",
    "Explanation:\n",
    "In this string, \"How\" is the word with the highest frequency, occurring 2 times.\n",
    "The length of \"How\" is 3.\n",
    "Output: The function correctly returns 3.\n",
    "\"\"\""
   ]
  }
 ],
 "metadata": {
  "kernelspec": {
   "display_name": "Python 3",
   "language": "python",
   "name": "python3"
  },
  "language_info": {
   "codemirror_mode": {
    "name": "ipython",
    "version": 3
   },
   "file_extension": ".py",
   "mimetype": "text/x-python",
   "name": "python",
   "nbconvert_exporter": "python",
   "pygments_lexer": "ipython3",
   "version": "3.10.0"
  }
 },
 "nbformat": 4,
 "nbformat_minor": 2
}
